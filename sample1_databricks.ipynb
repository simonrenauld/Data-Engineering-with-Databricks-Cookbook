{
 "cells": [
  {
   "cell_type": "code",
   "execution_count": 0,
   "metadata": {
    "application/vnd.databricks.v1+cell": {
     "cellMetadata": {
      "byteLimit": 2048000,
      "rowLimit": 10000
     },
     "inputWidgets": {},
     "nuid": "016c564b-5efb-4b63-8615-15ed61743ff3",
     "showTitle": false,
     "title": ""
    }
   },
   "outputs": [
    {
     "output_type": "display_data",
     "data": {
      "text/html": [
       "<style scoped>\n",
       "  .table-result-container {\n",
       "    max-height: 300px;\n",
       "    overflow: auto;\n",
       "  }\n",
       "  table, th, td {\n",
       "    border: 1px solid black;\n",
       "    border-collapse: collapse;\n",
       "  }\n",
       "  th, td {\n",
       "    padding: 5px;\n",
       "  }\n",
       "  th {\n",
       "    text-align: left;\n",
       "  }\n",
       "</style><div class='table-result-container'><table class='table-result'><thead style='background-color: white'><tr><th>path</th><th>name</th><th>size</th><th>modificationTime</th></tr></thead><tbody><tr><td>dbfs:/databricks-datasets/samples/adam/</td><td>adam/</td><td>0</td><td>0</td></tr><tr><td>dbfs:/databricks-datasets/samples/data/</td><td>data/</td><td>0</td><td>0</td></tr><tr><td>dbfs:/databricks-datasets/samples/docs/</td><td>docs/</td><td>0</td><td>0</td></tr><tr><td>dbfs:/databricks-datasets/samples/lending_club/</td><td>lending_club/</td><td>0</td><td>0</td></tr><tr><td>dbfs:/databricks-datasets/samples/newsgroups/</td><td>newsgroups/</td><td>0</td><td>0</td></tr><tr><td>dbfs:/databricks-datasets/samples/people/</td><td>people/</td><td>0</td><td>0</td></tr><tr><td>dbfs:/databricks-datasets/samples/population-vs-price/</td><td>population-vs-price/</td><td>0</td><td>0</td></tr></tbody></table></div>"
      ]
     },
     "metadata": {
      "application/vnd.databricks.v1+output": {
       "addedWidgets": {},
       "aggData": [],
       "aggError": "",
       "aggOverflow": false,
       "aggSchema": [],
       "aggSeriesLimitReached": false,
       "aggType": "",
       "arguments": {},
       "columnCustomDisplayInfos": {},
       "data": [
        [
         "dbfs:/databricks-datasets/samples/adam/",
         "adam/",
         0,
         0
        ],
        [
         "dbfs:/databricks-datasets/samples/data/",
         "data/",
         0,
         0
        ],
        [
         "dbfs:/databricks-datasets/samples/docs/",
         "docs/",
         0,
         0
        ],
        [
         "dbfs:/databricks-datasets/samples/lending_club/",
         "lending_club/",
         0,
         0
        ],
        [
         "dbfs:/databricks-datasets/samples/newsgroups/",
         "newsgroups/",
         0,
         0
        ],
        [
         "dbfs:/databricks-datasets/samples/people/",
         "people/",
         0,
         0
        ],
        [
         "dbfs:/databricks-datasets/samples/population-vs-price/",
         "population-vs-price/",
         0,
         0
        ]
       ],
       "datasetInfos": [],
       "dbfsResultPath": null,
       "isJsonSchema": true,
       "metadata": {},
       "overflow": false,
       "plotOptions": {
        "customPlotOptions": {},
        "displayType": "table",
        "pivotAggregation": null,
        "pivotColumns": null,
        "xColumns": null,
        "yColumns": null
       },
       "removedWidgets": [],
       "schema": [
        {
         "metadata": "{}",
         "name": "path",
         "type": "\"string\""
        },
        {
         "metadata": "{}",
         "name": "name",
         "type": "\"string\""
        },
        {
         "metadata": "{}",
         "name": "size",
         "type": "\"long\""
        },
        {
         "metadata": "{}",
         "name": "modificationTime",
         "type": "\"long\""
        }
       ],
       "type": "table"
      }
     },
     "output_type": "display_data"
    }
   ],
   "source": [
    "import pyspark\n",
    "from pyspark.sql.functions import col\n",
    "from pyspark.sql.types import IntegerType, FloatType\n",
    "\n",
    "# A list of folders containing sample datasets we can use\n",
    "display(dbutils.fs.ls(\"/databricks-datasets/samples/\"))"
   ]
  },
  {
   "cell_type": "code",
   "execution_count": 0,
   "metadata": {
    "application/vnd.databricks.v1+cell": {
     "cellMetadata": {
      "byteLimit": 2048000,
      "rowLimit": 10000
     },
     "inputWidgets": {},
     "nuid": "4dac8396-2b83-45df-b1b9-5d1a650fd48f",
     "showTitle": false,
     "title": ""
    }
   },
   "outputs": [],
   "source": [
    "# Loading in a sample table into the dataframe\n",
    "df = spark.read.csv(\"/databricks-datasets/samples/population-vs-price/data_geo.csv\", header=True)"
   ]
  },
  {
   "cell_type": "code",
   "execution_count": 0,
   "metadata": {
    "application/vnd.databricks.v1+cell": {
     "cellMetadata": {
      "byteLimit": 2048000,
      "rowLimit": 10000
     },
     "inputWidgets": {},
     "nuid": "f9304a79-88cb-4e64-9d0a-5997f93f1ba3",
     "showTitle": false,
     "title": ""
    }
   },
   "outputs": [
    {
     "output_type": "stream",
     "name": "stdout",
     "output_type": "stream",
     "text": [
      "+---------+-------------+----------+----------+------------------------+-----------------------+\n|2014 rank|         City|     State|State Code|2014 Population estimate|2015 median sales price|\n+---------+-------------+----------+----------+------------------------+-----------------------+\n|      101|   Birmingham|   Alabama|        AL|                  212247|                  162.9|\n|      125|   Huntsville|   Alabama|        AL|                  188226|                  157.7|\n|      122|       Mobile|   Alabama|        AL|                  194675|                  122.5|\n|      114|   Montgomery|   Alabama|        AL|                  200481|                    129|\n|       64|Anchorage[19]|    Alaska|        AK|                  301010|                   null|\n|       78|     Chandler|   Arizona|        AZ|                  254276|                   null|\n|       86|  Gilbert[20]|   Arizona|        AZ|                  239277|                   null|\n|       88|     Glendale|   Arizona|        AZ|                  237517|                   null|\n|       38|         Mesa|   Arizona|        AZ|                  464704|                   null|\n|      148|       Peoria|   Arizona|        AZ|                  166934|                   null|\n|        6|      Phoenix|   Arizona|        AZ|                 1537058|                  206.1|\n|       95|   Scottsdale|   Arizona|        AZ|                  230512|                   null|\n|      215|     Surprise|   Arizona|        AZ|                  126275|                   null|\n|      142|        Tempe|   Arizona|        AZ|                  172816|                   null|\n|       33|       Tucson|   Arizona|        AZ|                  527972|                  178.1|\n|      119|  Little Rock|  Arkansas|        AR|                  197706|                  131.8|\n|       56|      Anaheim|California|        CA|                  346997|                  685.7|\n|      261|      Antioch|California|        CA|                  108930|                   null|\n|       52|  Bakersfield|California|        CA|                  368759|                   null|\n|      227|     Berkeley|California|        CA|                  118853|                   null|\n+---------+-------------+----------+----------+------------------------+-----------------------+\nonly showing top 20 rows\n\n+---------+----------+-------+----------+------------------------+-----------------------+\n|2014 rank|      City|  State|State Code|2014 Population estimate|2015 median sales price|\n+---------+----------+-------+----------+------------------------+-----------------------+\n|      101|Birmingham|Alabama|        AL|                  212247|                  162.9|\n|      125|Huntsville|Alabama|        AL|                  188226|                  157.7|\n+---------+----------+-------+----------+------------------------+-----------------------+\nonly showing top 2 rows\n\n"
     ]
    }
   ],
   "source": [
    "# To view the first 20 rows of the df\n",
    "df.show()\n",
    "# OR we can add an integer into the parentheses to view a specific \n",
    "# number of rows\n",
    "df.show(2)"
   ]
  },
  {
   "cell_type": "code",
   "execution_count": 0,
   "metadata": {
    "application/vnd.databricks.v1+cell": {
     "cellMetadata": {
      "byteLimit": 2048000,
      "rowLimit": 10000
     },
     "inputWidgets": {},
     "nuid": "e6b50f14-a8cd-45b9-8601-28501d8ff37b",
     "showTitle": false,
     "title": ""
    }
   },
   "outputs": [
    {
     "output_type": "stream",
     "name": "stdout",
     "output_type": "stream",
     "text": [
      "Out[19]: ['2014 rank',\n 'City',\n 'State',\n 'State Code',\n '2014 Population estimate',\n '2015 median sales price']"
     ]
    }
   ],
   "source": [
    "# Viewing the column names\n",
    "df.columns"
   ]
  },
  {
   "cell_type": "code",
   "execution_count": 0,
   "metadata": {
    "application/vnd.databricks.v1+cell": {
     "cellMetadata": {
      "byteLimit": 2048000,
      "rowLimit": 10000
     },
     "inputWidgets": {},
     "nuid": "a1b1d1b9-cca6-44c6-a199-d0ebf0863142",
     "showTitle": false,
     "title": ""
    }
   },
   "outputs": [
    {
     "output_type": "stream",
     "name": "stdout",
     "output_type": "stream",
     "text": [
      "Out[22]: [Row(2014 rank='101', City='Birmingham', State='Alabama', State Code='AL', 2014 Population estimate='212247', 2015 median sales price='162.9'),\n Row(2014 rank='125', City='Huntsville', State='Alabama', State Code='AL', 2014 Population estimate='188226', 2015 median sales price='157.7')]"
     ]
    }
   ],
   "source": [
    "df.withColumnRenamed('2014 rank', '2014_rank')\n",
    "df.head(2)"
   ]
  },
  {
   "cell_type": "code",
   "execution_count": 0,
   "metadata": {
    "application/vnd.databricks.v1+cell": {
     "cellMetadata": {
      "byteLimit": 2048000,
      "rowLimit": 10000
     },
     "inputWidgets": {},
     "nuid": "5af67e31-fb29-479b-8f8e-d34d8e25ca23",
     "showTitle": false,
     "title": ""
    }
   },
   "outputs": [
    {
     "output_type": "stream",
     "name": "stdout",
     "output_type": "stream",
     "text": [
      "+---------+-----------------+\n|2014_rank|2014_pop_estimate|\n+---------+-----------------+\n|      101|           212247|\n|      125|           188226|\n|      122|           194675|\n|      114|           200481|\n|       64|           301010|\n|       78|           254276|\n|       86|           239277|\n|       88|           237517|\n|       38|           464704|\n|      148|           166934|\n|        6|          1537058|\n|       95|           230512|\n|      215|           126275|\n|      142|           172816|\n|       33|           527972|\n|      119|           197706|\n|       56|           346997|\n|      261|           108930|\n|       52|           368759|\n|      227|           118853|\n+---------+-----------------+\nonly showing top 20 rows\n\n"
     ]
    }
   ],
   "source": [
    "df2 = df.withColumnRenamed('2014 rank', '2014_rank') \\\n",
    "        .withColumnRenamed('State Code', 'state_code') \\\n",
    "        .withColumnRenamed('2014 Population estimate', '2014_pop_estimate') \\\n",
    "        .withColumnRenamed('2015 median sales price', '2015_median_sales_price')\n",
    "df2.select(['2014_rank', '2014_pop_estimate']).show()"
   ]
  },
  {
   "cell_type": "code",
   "execution_count": 0,
   "metadata": {
    "application/vnd.databricks.v1+cell": {
     "cellMetadata": {
      "byteLimit": 2048000,
      "rowLimit": 10000
     },
     "inputWidgets": {},
     "nuid": "f6197f80-f5c1-4cb5-9be1-25a3ee528187",
     "showTitle": false,
     "title": ""
    }
   },
   "outputs": [
    {
     "output_type": "stream",
     "name": "stdout",
     "output_type": "stream",
     "text": [
      "root\n |-- 2014_rank: string (nullable = true)\n |-- City: string (nullable = true)\n |-- State: string (nullable = true)\n |-- state_code: string (nullable = true)\n |-- 2014_pop_estimate: string (nullable = true)\n |-- 2015_median_sales_price: string (nullable = true)\n\n"
     ]
    }
   ],
   "source": [
    "df2.printSchema()"
   ]
  },
  {
   "cell_type": "code",
   "execution_count": 0,
   "metadata": {
    "application/vnd.databricks.v1+cell": {
     "cellMetadata": {
      "byteLimit": 2048000,
      "rowLimit": 10000
     },
     "inputWidgets": {},
     "nuid": "8a18c79a-dc6c-483a-863e-5bc5ebc664c0",
     "showTitle": false,
     "title": ""
    }
   },
   "outputs": [
    {
     "output_type": "stream",
     "name": "stdout",
     "output_type": "stream",
     "text": [
      "Out[30]: DataFrame[2014_rank: int, City: string, State: string, state_code: string, 2014_pop_estimate: string, 2015_median_sales_price: string]"
     ]
    }
   ],
   "source": [
    "# change value\n",
    "\n",
    "df2.withColumn(\"2014_rank\", col(\"2014_rank\").cast(IntegerType()))"
   ]
  },
  {
   "cell_type": "code",
   "execution_count": 0,
   "metadata": {
    "application/vnd.databricks.v1+cell": {
     "cellMetadata": {
      "byteLimit": 2048000,
      "rowLimit": 10000
     },
     "inputWidgets": {},
     "nuid": "07678ab5-0d1e-4111-bd9f-838157f85a28",
     "showTitle": false,
     "title": ""
    }
   },
   "outputs": [],
   "source": [
    "df3 = df2.withColumn(\"2014_rank\", col(\"2014_rank\").cast(IntegerType())) \\\n",
    "         .withColumn(\"2014_pop_estimate\", col(\"2014_pop_estimate\").cast(IntegerType())) \\\n",
    "         .withColumn(\"2015_median_sales_price\", col(\"2015_median_sales_price\").cast(FloatType()))\n",
    "# Giving our df3 the table name 'pop_price'\n",
    "df3.createOrReplaceTempView('pop_price')\n"
   ]
  },
  {
   "cell_type": "code",
   "execution_count": 0,
   "metadata": {
    "application/vnd.databricks.v1+cell": {
     "cellMetadata": {
      "byteLimit": 2048000,
      "rowLimit": 10000
     },
     "inputWidgets": {},
     "nuid": "6ea7afac-0198-41ca-a349-56e33be16caf",
     "showTitle": false,
     "title": ""
    }
   },
   "outputs": [
    {
     "output_type": "stream",
     "name": "stdout",
     "output_type": "stream",
     "text": [
      "+---------+---------------+------------+----------+-----------------+-----------------------+\n|2014_rank|           City|       State|state_code|2014_pop_estimate|2015_median_sales_price|\n+---------+---------------+------------+----------+-----------------+-----------------------+\n|        1|    New York[6]|    New York|        NY|          8491079|                  388.6|\n|        2|    Los Angeles|  California|        CA|          3928864|                  434.7|\n|        3|        Chicago|    Illinois|        IL|          2722389|                  192.5|\n|        4|     Houston[7]|       Texas|        TX|          2239558|                  200.3|\n|        5|Philadelphia[8]|Pennsylvania|        PA|          1560297|                  204.9|\n|        6|        Phoenix|     Arizona|        AZ|          1537058|                  206.1|\n|        7|    San Antonio|       Texas|        TX|          1436697|                  184.7|\n|        8|      San Diego|  California|        CA|          1381069|                  510.3|\n|        9|         Dallas|       Texas|        TX|          1281047|                  192.5|\n|       10|       San Jose|  California|        CA|          1015785|                  900.0|\n+---------+---------------+------------+----------+-----------------+-----------------------+\n\n"
     ]
    }
   ],
   "source": [
    "# Viewing the top 10 cities based on the '2014_rank' column\n",
    "top_10_results = spark.sql(\"\"\"SELECT * FROM pop_price \n",
    "                              WHERE 2014_rank <= 10\n",
    "                              SORT BY 2014_rank ASC\"\"\")\n",
    "top_10_results.show()"
   ]
  },
  {
   "cell_type": "code",
   "execution_count": 0,
   "metadata": {
    "application/vnd.databricks.v1+cell": {
     "cellMetadata": {},
     "inputWidgets": {},
     "nuid": "cc692355-b5f8-413a-a433-c50947434ab4",
     "showTitle": false,
     "title": ""
    }
   },
   "outputs": [],
   "source": []
  }
 ],
 "metadata": {
  "application/vnd.databricks.v1+notebook": {
   "dashboards": [],
   "environmentMetadata": null,
   "language": "python",
   "notebookMetadata": {
    "pythonIndentUnit": 4
   },
   "notebookName": "sample1_databricks",
   "widgets": {}
  }
 },
 "nbformat": 4,
 "nbformat_minor": 0
}
